{
 "cells": [
  {
   "cell_type": "markdown",
   "metadata": {},
   "source": [
    "# Simple Neural Network Example\n",
    "\n",
    "We aim to demonstrate a simple neural network with one hidden layer using simulated data\n",
    "\n",
    "Our input data for each observation will be a random array of length $ N = 10$ taking values in $(-1,0,1)$. The single-valued simulated output will be constructed via the function **y_func**. The aim of this function is to create a highly nonlinear relationship between the input array and the output. The model will be trained 'online' such that the weights are updated at each new observation that the model sees."
   ]
  },
  {
   "cell_type": "code",
   "execution_count": 1,
   "metadata": {},
   "outputs": [],
   "source": [
    "import numpy as np\n",
    "import matplotlib.pyplot as plt"
   ]
  },
  {
   "cell_type": "code",
   "execution_count": 2,
   "metadata": {},
   "outputs": [],
   "source": [
    "# define our function to simulate the output\n",
    "def y_func(x):\n",
    "    result = 0\n",
    "    for i in range(0,len(x)):\n",
    "        if i%2 == 0:\n",
    "            if i%4 == 0:\n",
    "                result *= 0.5 / (3.5 + x[i])\n",
    "            else:                    \n",
    "                result += 0.5 * x[i]\n",
    "        else:\n",
    "            result -=  x[i] / (2 + x[i])\n",
    "    \n",
    "    return result\n",
    "            "
   ]
  },
  {
   "cell_type": "code",
   "execution_count": 3,
   "metadata": {},
   "outputs": [],
   "source": [
    "# create our random vectors of inputs\n",
    "x_data = []\n",
    "numObs = 1000\n",
    "for _ in range(0,numObs):\n",
    "    x_data.append(np.random.randint(low = -1, high = 2, size = 10) )\n",
    "\n",
    "# compute the output from the input    \n",
    "y_data = [y_func(x) for x in x_data]\n",
    "\n",
    "x_data = np.array(x_data)\n",
    "y_data = np.array(y_data)\n",
    "    "
   ]
  },
  {
   "cell_type": "markdown",
   "metadata": {},
   "source": [
    "## Mapping Functions\n",
    "\n",
    "The mapping from the input array $X$ to a given node $Z_i$ in the hidden layer will be given by\n",
    "\n",
    "$$ Z_i = \\sigma (a_i + \\alpha_i^T X ) $$\n",
    "\n",
    "where $\\sigma (x) := 1 / (1 + e^{-x})$ and the scalar $a_i$ and vector $\\alpha_i$ are the bias and weights respectively.\n",
    "\n",
    "The output $Y$ is just a linear combination (with weights $\\beta$ and bias $b$) of the nodes in the hidden layer\n",
    "\n",
    "$$ Y = b + \\beta^T Z $$\n",
    "\n",
    "Hence our mapping (with a hidden layer of $K$ nodes) will be given in full by\n",
    "\n",
    "$$ Y = b + \\sum_{i=1}^K \\beta_i * \\sigma(a_i + \\alpha_i^T X) $$\n",
    "\n",
    "## Cost function and derivatives\n",
    "\n",
    "We define our cost function as the usual squared error between our prediction $\\hat{Y}$ and the true value $Y$\n",
    "\n",
    "$$ C(Y, \\hat{Y}) := (Y - \\hat{Y})^2 $$\n",
    "\n",
    "In order to minimise the cost function using gradient descent, we will need to compute the derivatives with respect to the weights in the model. These can easily be shown to be\n",
    "\n",
    "$$\\frac{\\partial C}{\\partial \\beta_i} = -2(Y - \\hat{Y})Z_i$$\n",
    "\n",
    "$$\\frac{\\partial C}{\\partial \\alpha_{ik}} = -2(Y - \\hat{Y}) \\beta_i  \\sigma ' (a_i + \\alpha_i^T X)X_k $$\n",
    "\n",
    "In practice, when we calculate these derivatives, we will append a value of $1$ onto the input vector $X$ (and subsequently for $Z$) and include the bias in the weight vector. This allows the bias to be updated in the same way as the weights on each iteration.\n",
    "\n",
    "## Gradient Descent\n",
    "\n",
    "Gradient descent will be computed as follows\n",
    "\n",
    "$$\\beta_i^{(r+1)} = \\beta_i^{(r)} - \\gamma \\frac{\\partial C}{\\partial \\beta_i}$$\n",
    "$$\\alpha_{ik}^{(r+1)} = \\alpha_{ik}^{(r)} - \\gamma \\frac{\\partial C}{\\partial \\alpha_{ik}}$$\n",
    "\n",
    "where $\\gamma$ is the learning rate."
   ]
  },
  {
   "cell_type": "code",
   "execution_count": 4,
   "metadata": {},
   "outputs": [],
   "source": [
    "# define the sigmoid function and its derivative\n",
    "def sigmoid_func(x):\n",
    "    return 1.0 / (1 + np.exp(-x))\n",
    "\n",
    "def sigmoid_func_deriv(x):\n",
    "    return np.exp(-x) / (1 + np.exp(-x))**2\n",
    "    "
   ]
  },
  {
   "cell_type": "code",
   "execution_count": 5,
   "metadata": {},
   "outputs": [],
   "source": [
    "class neuralNet:\n",
    "    \n",
    "    def __init__(self, num_layer_nodes, input_data_len, output_data_len):\n",
    "        \n",
    "        # we add an extra element to the weight vector to hold the bias\n",
    "        self.w1 = np.random.rand(num_layer_nodes,input_data_len + 1)\n",
    "        self.w2 = np.random.rand(num_layer_nodes + 1)\n",
    "        \n",
    "        # layer_vals and output_vals will hold our hidden layer values and output values respectively\n",
    "        self.layer_vals  = np.zeros(num_layer_nodes)\n",
    "        self.output_vals = 0\n",
    "        \n",
    "        # the weight change matrices for the gradient descent\n",
    "        self.w1_change = np.zeros( (num_layer_nodes, input_data_len + 1) )\n",
    "        self.w2_change = np.zeros(num_layer_nodes + 1)\n",
    "        \n",
    "    def train(self, input_data, output_data):\n",
    "        \n",
    "        #append our input array with 1 to account for bias in first weight vector\n",
    "        input_data_bias = np.append(input_data,[1])\n",
    "        \n",
    "        self.layer_vals  = sigmoid_func(np.dot(self.w1,input_data_bias))\n",
    "        \n",
    "        #append our input array with 1 to account for bias in second weight vector\n",
    "        self.layer_vals = np.append(self.layer_vals,[1])\n",
    "        \n",
    "        self.output_vals = np.dot(self.w2, self.layer_vals)\n",
    "        \n",
    "        # compute the derivates\n",
    "        self.w2_change = -2 * (output_data - self.output_vals) * self.layer_vals\n",
    "        \n",
    "        for i in range(0, len(self.w1_change)):\n",
    "            for j in range(0,len(self.w1_change[1])):\n",
    "                self.w1_change[i][j] = -2 * (output_data - self.output_vals) * self.w2[i] * sigmoid_func_deriv(np.dot(self.w1[i], input_data_bias)) * input_data_bias[j]\n",
    "        \n",
    "        # update via gradient descent\n",
    "        self.w1 = self.w1  - 0.05 * self.w1_change\n",
    "        self.w2 = self.w2  - 0.05 * self.w2_change\n",
    "        \n",
    "    def predict(self, input_data):              \n",
    "        \n",
    "        self.layer_vals  = sigmoid_func(np.dot(self.w1,np.append(input_data,[1])  ))\n",
    "        self.output_vals = np.dot(self.w2, np.append(self.layer_vals,[1]))\n",
    "        \n",
    "        return self.output_vals       \n",
    "        \n",
    "        \n",
    "        "
   ]
  },
  {
   "cell_type": "code",
   "execution_count": 6,
   "metadata": {},
   "outputs": [],
   "source": [
    "# initialise a NN with 10 nodes in the hidden layer\n",
    "nn = neuralNet(10,10,1)\n",
    "\n",
    "# we will iterate 100 times through the data (which has 1000 observations -> 200 of which will be kept for testing)\n",
    "epochs = 100\n",
    "\n",
    "cost = np.zeros(epochs)\n",
    "test_error = np.zeros(epochs)\n",
    "\n",
    "train_set_len = 800 #keep 200 observations for testing\n",
    "fitted_vals = np.zeros(train_set_len)\n",
    "test_predictions = np.zeros(numObs - train_set_len)\n",
    "\n",
    "for i in range(0,epochs):\n",
    "    \n",
    "    fitted_vals = np.zeros(train_set_len)\n",
    "    \n",
    "    for j in range(0,train_set_len):\n",
    "        \n",
    "        nn.train(x_data[j], y_data[j])\n",
    "        fitted_vals[j] = nn.predict(x_data[j])\n",
    "        \n",
    "    for k in range(0, numObs - train_set_len):\n",
    "        test_predictions[k] = nn.predict(x_data[train_set_len + k])      \n",
    "          \n",
    "        \n",
    "    cost[i] = sum( (y_data[0:train_set_len] - fitted_vals)**2 )\n",
    "    test_error[i] = sum( (y_data[train_set_len:] - test_predictions)**2 )\n",
    "    \n",
    "    \n"
   ]
  },
  {
   "cell_type": "markdown",
   "metadata": {},
   "source": [
    "## Training Set & Test Set Loss Function"
   ]
  },
  {
   "cell_type": "code",
   "execution_count": 7,
   "metadata": {},
   "outputs": [
    {
     "data": {
      "image/png": "[encoded data removed]",
      "text/plain": [
       "<Figure size 432x288 with 1 Axes>"
      ]
     },
     "metadata": {
      "needs_background": "light"
     },
     "output_type": "display_data"
    }
   ],
   "source": [
    "plt.figure()\n",
    "plt.plot(np.sqrt(cost/train_set_len), label = 'training set loss')\n",
    "plt.plot(np.sqrt(test_error/(numObs - train_set_len)), label = 'test set loss')\n",
    "plt.xlabel('epoch')\n",
    "plt.ylabel('loss')\n",
    "plt.legend()\n",
    "plt.show()"
   ]
  },
  {
   "cell_type": "markdown",
   "metadata": {},
   "source": [
    "## Trained Model Test Set Predictions"
   ]
  },
  {
   "cell_type": "code",
   "execution_count": 8,
   "metadata": {},
   "outputs": [],
   "source": [
    "predict_vals = []\n",
    "for i in range(train_set_len,len(y_data)):\n",
    "    predict_vals.append(nn.predict(x_data[i]))"
   ]
  },
  {
   "cell_type": "code",
   "execution_count": 9,
   "metadata": {},
   "outputs": [
    {
     "data": {
      "image/png": "[encoded data removed]",
      "text/plain": [
       "<Figure size 432x288 with 1 Axes>"
      ]
     },
     "metadata": {
      "needs_background": "light"
     },
     "output_type": "display_data"
    }
   ],
   "source": [
    "testSet = y_data[train_set_len:]\n",
    "lineStart = min(y_data[train_set_len:])\n",
    "lineEnd = max(y_data[train_set_len:])\n",
    "\n",
    "plt.figure()\n",
    "plt.scatter(testSet, predict_vals)\n",
    "plt.plot([lineStart,lineEnd],[lineStart,lineEnd], color = 'r', label = 'perfect prediction line y = x')\n",
    "plt.xlabel('actual')\n",
    "plt.ylabel('predicted')\n",
    "plt.legend()\n",
    "plt.show()"
   ]
  },
  {
   "cell_type": "code",
   "execution_count": 10,
   "metadata": {},
   "outputs": [
    {
     "data": {
      "text/plain": [
       "(array([ 4.,  4.,  4.,  8.,  4.,  9., 13., 14., 16., 13., 31., 22., 16.,\n",
       "        17.,  7.,  8.,  4.,  3.,  2.,  1.]),\n",
       " array([-0.06246335, -0.05463588, -0.0468084 , -0.03898092, -0.03115344,\n",
       "        -0.02332597, -0.01549849, -0.00767101,  0.00015647,  0.00798394,\n",
       "         0.01581142,  0.0236389 ,  0.03146637,  0.03929385,  0.04712133,\n",
       "         0.05494881,  0.06277628,  0.07060376,  0.07843124,  0.08625872,\n",
       "         0.09408619]),\n",
       " <a list of 20 Patch objects>)"
      ]
     },
     "execution_count": 10,
     "metadata": {},
     "output_type": "execute_result"
    },
    {
     "data": {
      "image/png": "[encoded data removed]",
      "text/plain": [
       "<Figure size 432x288 with 1 Axes>"
      ]
     },
     "metadata": {
      "needs_background": "light"
     },
     "output_type": "display_data"
    }
   ],
   "source": [
    "residuals = predict_vals - testSet\n",
    "plt.hist(residuals, bins = 20)"
   ]
  }
 ],
 "metadata": {
  "kernelspec": {
   "display_name": "Python 3",
   "language": "python",
   "name": "python3"
  },
  "language_info": {
   "codemirror_mode": {
    "name": "ipython",
    "version": 3
   },
   "file_extension": ".py",
   "mimetype": "text/x-python",
   "name": "python",
   "nbconvert_exporter": "python",
   "pygments_lexer": "ipython3",
   "version": "3.7.1"
  }
 },
 "nbformat": 4,
 "nbformat_minor": 2
}
